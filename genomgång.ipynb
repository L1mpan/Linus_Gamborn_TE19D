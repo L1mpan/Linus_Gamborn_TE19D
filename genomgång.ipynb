{
 "metadata": {
  "language_info": {
   "codemirror_mode": {
    "name": "ipython",
    "version": 3
   },
   "file_extension": ".py",
   "mimetype": "text/x-python",
   "name": "python",
   "nbconvert_exporter": "python",
   "pygments_lexer": "ipython3",
   "version": "3.8.3-final"
  },
  "orig_nbformat": 2,
  "kernelspec": {
   "name": "Python 3.8.3 64-bit ('base': conda)",
   "display_name": "Python 3.8.3 64-bit ('base': conda)",
   "metadata": {
    "interpreter": {
     "hash": "0b726507bdba779579ac09df86f6cd2aec85bb4eb1f6f28e5f3857928b2e7104"
    }
   }
  }
 },
 "nbformat": 4,
 "nbformat_minor": 2,
 "cells": [
  {
   "cell_type": "code",
   "execution_count": 1,
   "metadata": {
    "tags": []
   },
   "outputs": [
    {
     "output_type": "stream",
     "name": "stdout",
     "text": "10 9 8 7 6 5 4 3 2 1 "
    }
   ],
   "source": [
    "for i in range(10):\n",
    "    print(10-i, end =\" \")"
   ]
  },
  {
   "cell_type": "code",
   "execution_count": 23,
   "metadata": {
    "tags": []
   },
   "outputs": [
    {
     "output_type": "stream",
     "name": "stdout",
     "text": "# # # 1\n# # # 2\n# # # 3\n# # # 4\n# # # 5\n# # # 6\n# # # 7\n# # # 8\n# # # 9\n# # # 10\n"
    }
   ],
   "source": [
    "for r in range(1,11):\n",
    "    for i in range(3):\n",
    "        print(\"#\", end =\" \")\n",
    "    print(r)"
   ]
  },
  {
   "source": [
    "insättning = 1000\n",
    "förändringsfaktor = 1.02\n",
    "år = 0\n",
    "\n",
    "while insättning < 10000:\n",
    "    insättning = insättning*förändringsfaktor + 1000\n",
    "    år += 1 # år ökar med 1\n",
    "\n",
    "print(f\"antal år: {år}, totala summan pengar: {insättning}kr\")"
   ],
   "cell_type": "code",
   "metadata": {
    "tags": []
   },
   "execution_count": 3,
   "outputs": [
    {
     "output_type": "stream",
     "name": "stdout",
     "text": "antal år: 9, totala summan pengar: 10949.720999737858kr\n"
    }
   ]
  },
  {
   "cell_type": "code",
   "execution_count": null,
   "metadata": {
    "tags": []
   },
   "outputs": [],
   "source": [
    "'''\n",
    "    1L mjölk innehåller 1500000 bakterier i rumstemp.\n",
    "    Bakterierna att öka med 50% per timme \n",
    "    Mjölken blir sur när bakterierna överstiger 10 000 000\n",
    "    Hur många timmar tar det tills mjölken surnar?\n",
    "'''\n",
    "\n",
    "mjölk = 1500000\n",
    "bakterier = 1.50\n",
    "timmar = 0\n",
    "\n",
    "while mjölk < 10000000:\n",
    "    mjölk = mjölk*bakterier\n",
    "    timmar += 1\n",
    "\n",
    "print(f\"Det tar {timmar} timmar tills mjölken surnar\")"
   ]
  },
  {
   "cell_type": "code",
   "execution_count": 1,
   "metadata": {
    "tags": []
   },
   "outputs": [
    {
     "output_type": "stream",
     "name": "stdout",
     "text": "talet är 4950\n"
    }
   ],
   "source": [
    "n = 0\n",
    "s = 0 \n",
    "\n",
    "while n < 100:\n",
    "    s += n \n",
    "    n += 1\n",
    "\n",
    "print(f\"talet är {s}\")"
   ]
  },
  {
   "cell_type": "code",
   "execution_count": null,
   "metadata": {},
   "outputs": [],
   "source": []
  }
 ]
}